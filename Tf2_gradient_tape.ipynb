{
  "nbformat": 4,
  "nbformat_minor": 0,
  "metadata": {
    "colab": {
      "name": "Tf2_gradient_tape.ipynb",
      "provenance": []
    },
    "kernelspec": {
      "name": "python3",
      "display_name": "Python 3"
    }
  },
  "cells": [
    {
      "cell_type": "code",
      "metadata": {
        "id": "HDDlWFv1l-IK",
        "colab_type": "code",
        "colab": {}
      },
      "source": [
        "import tensorflow as tf"
      ],
      "execution_count": null,
      "outputs": []
    },
    {
      "cell_type": "code",
      "metadata": {
        "id": "1JA_edGaqT15",
        "colab_type": "code",
        "colab": {}
      },
      "source": [
        "def get_loss(w):\n",
        "  return w**2"
      ],
      "execution_count": null,
      "outputs": []
    },
    {
      "cell_type": "code",
      "metadata": {
        "id": "RZyR4_ljqUXw",
        "colab_type": "code",
        "colab": {}
      },
      "source": [
        "def get_grad(w):\n",
        "  L = get_loss(w)\n",
        "  with tf.GradientTape() as tape:\n",
        "    L = get_loss(w)\n",
        "  gradients = tape.gradient(L, w)\n",
        "  return gradients  "
      ],
      "execution_count": null,
      "outputs": []
    },
    {
      "cell_type": "code",
      "metadata": {
        "id": "GkYm75JBDqzE",
        "colab_type": "code",
        "colab": {}
      },
      "source": [
        "w = tf.Variable(5.0)\n",
        "optimizer = tf.keras.optimizers.SGD(learning_rate=0.1)\n",
        "losses = []\n",
        "for i in range(50):\n",
        "  g = get_grad(w)\n",
        "  optimizer.apply_gradients(zip([g], [w]))\n",
        "  loss = get_loss(w)\n",
        "  losses.append(loss)"
      ],
      "execution_count": null,
      "outputs": []
    },
    {
      "cell_type": "code",
      "metadata": {
        "id": "DMx_DauqE98-",
        "colab_type": "code",
        "colab": {
          "base_uri": "https://localhost:8080/",
          "height": 282
        },
        "outputId": "75f4b111-066a-4f48-9262-0a5a4f5c3b54"
      },
      "source": [
        "import matplotlib.pyplot as plt\n",
        "plt.plot(losses)"
      ],
      "execution_count": null,
      "outputs": [
        {
          "output_type": "execute_result",
          "data": {
            "text/plain": [
              "[<matplotlib.lines.Line2D at 0x7fdfb1490d30>]"
            ]
          },
          "metadata": {
            "tags": []
          },
          "execution_count": 31
        },
        {
          "output_type": "display_data",
          "data": {
            "image/png": "[encoded data removed]",
            "text/plain": [
              "<Figure size 432x288 with 1 Axes>"
            ]
          },
          "metadata": {
            "tags": [],
            "needs_background": "light"
          }
        }
      ]
    },
    {
      "cell_type": "code",
      "metadata": {
        "id": "W-1xfjf4FUgz",
        "colab_type": "code",
        "colab": {
          "base_uri": "https://localhost:8080/",
          "height": 34
        },
        "outputId": "64b1e78d-c1c2-4dc8-d0ad-c2b4234dc7ea"
      },
      "source": [
        "def f_x(x1, x2):\n",
        "  return x1**2 + 2*x1 + 3*x2 +x2**2\n",
        "\n",
        "x1 = tf.Variable(5.0)\n",
        "x2 = tf.Variable(4.0)\n",
        "\n",
        "with tf.GradientTape() as tape:\n",
        "  y = f_x(x1, x2)\n",
        "\n",
        "gradients = tape.gradient(y, [x1, x2])  \n",
        "print()"
      ],
      "execution_count": null,
      "outputs": [
        {
          "output_type": "stream",
          "text": [
            "\n"
          ],
          "name": "stdout"
        }
      ]
    },
    {
      "cell_type": "code",
      "metadata": {
        "id": "jTlP7nysNaEu",
        "colab_type": "code",
        "colab": {
          "base_uri": "https://localhost:8080/",
          "height": 51
        },
        "outputId": "94a0f36a-adf1-4258-8595-f37a9e0948fa"
      },
      "source": [
        "gradients"
      ],
      "execution_count": null,
      "outputs": [
        {
          "output_type": "execute_result",
          "data": {
            "text/plain": [
              "[<tf.Tensor: shape=(), dtype=float32, numpy=12.0>,\n",
              " <tf.Tensor: shape=(), dtype=float32, numpy=11.0>]"
            ]
          },
          "metadata": {
            "tags": []
          },
          "execution_count": 38
        }
      ]
    },
    {
      "cell_type": "code",
      "metadata": {
        "id": "Bx9fMBGhNp7U",
        "colab_type": "code",
        "colab": {}
      },
      "source": [
        ""
      ],
      "execution_count": null,
      "outputs": []
    }
  ]
}